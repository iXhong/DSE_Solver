{
 "cells": [
  {
   "cell_type": "markdown",
   "id": "fb3c1066",
   "metadata": {},
   "source": [
    "## DSE Z2 Z4"
   ]
  },
  {
   "cell_type": "code",
   "execution_count": 4,
   "id": "a0d11d08",
   "metadata": {},
   "outputs": [],
   "source": [
    "import sympy as smp"
   ]
  },
  {
   "cell_type": "code",
   "execution_count": 10,
   "id": "8be9713b",
   "metadata": {},
   "outputs": [],
   "source": [
    "p2, q, x = smp.symbols('p2 q x',real=True,positive=True)\n",
    "q2 = q**2\n",
    "k2 = p2 + q2 - 2*smp.sqrt(p2 * q2)*x"
   ]
  },
  {
   "cell_type": "code",
   "execution_count": 12,
   "id": "a3a6024a",
   "metadata": {},
   "outputs": [
    {
     "data": {
      "text/latex": [
       "$\\displaystyle - 2 \\sqrt{p_{2}} q x + p_{2} + q^{2}$"
      ],
      "text/plain": [
       "-2*sqrt(p2)*q*x + p2 + q**2"
      ]
     },
     "execution_count": 12,
     "metadata": {},
     "output_type": "execute_result"
    }
   ],
   "source": [
    "k2"
   ]
  },
  {
   "cell_type": "code",
   "execution_count": 14,
   "id": "7d5a3f11",
   "metadata": {},
   "outputs": [],
   "source": [
    "A = smp.Function('A')(q2)\n",
    "B = smp.Function('B')(q2)\n",
    "G = smp.Function('G')(k2)"
   ]
  },
  {
   "cell_type": "code",
   "execution_count": 15,
   "id": "96cdca5d",
   "metadata": {},
   "outputs": [],
   "source": [
    "denom = q2*A**2 + B**2"
   ]
  },
  {
   "cell_type": "code",
   "execution_count": 16,
   "id": "326f261c",
   "metadata": {},
   "outputs": [
    {
     "data": {
      "text/latex": [
       "$\\displaystyle q^{2} A^{2}{\\left(q^{2} \\right)} + B^{2}{\\left(q^{2} \\right)}$"
      ],
      "text/plain": [
       "q**2*A(q**2)**2 + B(q**2)**2"
      ]
     },
     "execution_count": 16,
     "metadata": {},
     "output_type": "execute_result"
    }
   ],
   "source": [
    "denom"
   ]
  },
  {
   "cell_type": "code",
   "execution_count": 23,
   "id": "576c154e",
   "metadata": {},
   "outputs": [],
   "source": [
    "term1 = smp.sqrt(p2*q2)*x\n",
    "term2 = 2*(p2*q2-smp.sqrt(p2*q2)*x*(p2+q2)+p2*q2*x**2)/k2"
   ]
  },
  {
   "cell_type": "code",
   "execution_count": 19,
   "id": "0a193710",
   "metadata": {},
   "outputs": [
    {
     "data": {
      "text/latex": [
       "$\\displaystyle \\sqrt{p_{2}} q x$"
      ],
      "text/plain": [
       "sqrt(p2)*q*x"
      ]
     },
     "execution_count": 19,
     "metadata": {},
     "output_type": "execute_result"
    }
   ],
   "source": [
    "term1"
   ]
  },
  {
   "cell_type": "code",
   "execution_count": 24,
   "id": "b93eb2f1",
   "metadata": {},
   "outputs": [
    {
     "data": {
      "text/latex": [
       "$\\displaystyle \\frac{- 2 \\sqrt{p_{2}} q x \\left(p_{2} + q^{2}\\right) + 2 p_{2} q^{2} x^{2} + 2 p_{2} q^{2}}{- 2 \\sqrt{p_{2}} q x + p_{2} + q^{2}}$"
      ],
      "text/plain": [
       "(-2*sqrt(p2)*q*x*(p2 + q**2) + 2*p2*q**2*x**2 + 2*p2*q**2)/(-2*sqrt(p2)*q*x + p2 + q**2)"
      ]
     },
     "execution_count": 24,
     "metadata": {},
     "output_type": "execute_result"
    }
   ],
   "source": [
    "term2"
   ]
  },
  {
   "cell_type": "code",
   "execution_count": 25,
   "id": "399a1ef1",
   "metadata": {},
   "outputs": [],
   "source": [
    "kernel = smp.sqrt(1-x**2)* G/k2 * A*(term1+term2)/denom "
   ]
  },
  {
   "cell_type": "code",
   "execution_count": 26,
   "id": "113d8055",
   "metadata": {},
   "outputs": [
    {
     "data": {
      "text/latex": [
       "$\\displaystyle \\frac{\\sqrt{1 - x^{2}} \\left(\\sqrt{p_{2}} q x + \\frac{- 2 \\sqrt{p_{2}} q x \\left(p_{2} + q^{2}\\right) + 2 p_{2} q^{2} x^{2} + 2 p_{2} q^{2}}{- 2 \\sqrt{p_{2}} q x + p_{2} + q^{2}}\\right) A{\\left(q^{2} \\right)} G{\\left(- 2 \\sqrt{p_{2}} q x + p_{2} + q^{2} \\right)}}{\\left(q^{2} A^{2}{\\left(q^{2} \\right)} + B^{2}{\\left(q^{2} \\right)}\\right) \\left(- 2 \\sqrt{p_{2}} q x + p_{2} + q^{2}\\right)}$"
      ],
      "text/plain": [
       "sqrt(1 - x**2)*(sqrt(p2)*q*x + (-2*sqrt(p2)*q*x*(p2 + q**2) + 2*p2*q**2*x**2 + 2*p2*q**2)/(-2*sqrt(p2)*q*x + p2 + q**2))*A(q**2)*G(-2*sqrt(p2)*q*x + p2 + q**2)/((q**2*A(q**2)**2 + B(q**2)**2)*(-2*sqrt(p2)*q*x + p2 + q**2))"
      ]
     },
     "execution_count": 26,
     "metadata": {},
     "output_type": "execute_result"
    }
   ],
   "source": [
    "kernel"
   ]
  },
  {
   "cell_type": "markdown",
   "id": "513ed6e5",
   "metadata": {},
   "source": [
    "## 被积部分"
   ]
  },
  {
   "cell_type": "code",
   "execution_count": 27,
   "id": "e871b398",
   "metadata": {},
   "outputs": [],
   "source": [
    "integrand = q**3*kernel"
   ]
  },
  {
   "cell_type": "code",
   "execution_count": 28,
   "id": "b05088bc",
   "metadata": {},
   "outputs": [],
   "source": [
    "Z2 = smp.Symbol('Z2')"
   ]
  },
  {
   "cell_type": "code",
   "execution_count": 33,
   "id": "4ff456ad",
   "metadata": {},
   "outputs": [],
   "source": [
    "A_prime = 1/(3* smp.pi**3 * p2**(3/2)) * smp.Integral(\n",
    "    smp.Integral(integrand,(x,-1,1)),\n",
    "    (q,0,smp.oo)\n",
    ")"
   ]
  },
  {
   "cell_type": "markdown",
   "id": "324ccb8c",
   "metadata": {},
   "source": [
    "## $A^{'}$ Expression"
   ]
  },
  {
   "cell_type": "code",
   "execution_count": 34,
   "id": "60aab73c",
   "metadata": {},
   "outputs": [
    {
     "data": {
      "text/latex": [
       "$\\displaystyle \\frac{\\int\\limits_{0}^{\\infty}\\int\\limits_{-1}^{1} \\frac{q^{3} \\sqrt{1 - x^{2}} \\left(\\sqrt{p_{2}} q x + \\frac{- 2 \\sqrt{p_{2}} q x \\left(p_{2} + q^{2}\\right) + 2 p_{2} q^{2} x^{2} + 2 p_{2} q^{2}}{- 2 \\sqrt{p_{2}} q x + p_{2} + q^{2}}\\right) A{\\left(q^{2} \\right)} G{\\left(- 2 \\sqrt{p_{2}} q x + p_{2} + q^{2} \\right)}}{\\left(q^{2} A^{2}{\\left(q^{2} \\right)} + B^{2}{\\left(q^{2} \\right)}\\right) \\left(- 2 \\sqrt{p_{2}} q x + p_{2} + q^{2}\\right)}\\, dx\\, dq}{3 \\pi^{3} p_{2}^{1.5}}$"
      ],
      "text/plain": [
       "Integral(q**3*sqrt(1 - x**2)*(sqrt(p2)*q*x + (-2*sqrt(p2)*q*x*(p2 + q**2) + 2*p2*q**2*x**2 + 2*p2*q**2)/(-2*sqrt(p2)*q*x + p2 + q**2))*A(q**2)*G(-2*sqrt(p2)*q*x + p2 + q**2)/((q**2*A(q**2)**2 + B(q**2)**2)*(-2*sqrt(p2)*q*x + p2 + q**2)), (x, -1, 1), (q, 0, oo))/(3*pi**3*p2**1.5)"
      ]
     },
     "execution_count": 34,
     "metadata": {},
     "output_type": "execute_result"
    }
   ],
   "source": [
    "A_prime"
   ]
  },
  {
   "cell_type": "code",
   "execution_count": 35,
   "id": "6c6fab6d",
   "metadata": {},
   "outputs": [],
   "source": [
    "A_expr = A_prime + Z2"
   ]
  },
  {
   "cell_type": "markdown",
   "id": "84b741f7",
   "metadata": {},
   "source": [
    "## B section "
   ]
  },
  {
   "cell_type": "code",
   "execution_count": 40,
   "id": "33d835c6",
   "metadata": {},
   "outputs": [],
   "source": [
    "kernel_b = smp.sqrt(1-x**2)* G/k2 * B/denom "
   ]
  },
  {
   "cell_type": "code",
   "execution_count": 41,
   "id": "bdae20ae",
   "metadata": {},
   "outputs": [
    {
     "data": {
      "text/latex": [
       "$\\displaystyle \\frac{\\sqrt{1 - x^{2}} B{\\left(q^{2} \\right)} G{\\left(- 2 \\sqrt{p_{2}} q x + p_{2} + q^{2} \\right)}}{\\left(q^{2} A^{2}{\\left(q^{2} \\right)} + B^{2}{\\left(q^{2} \\right)}\\right) \\left(- 2 \\sqrt{p_{2}} q x + p_{2} + q^{2}\\right)}$"
      ],
      "text/plain": [
       "sqrt(1 - x**2)*B(q**2)*G(-2*sqrt(p2)*q*x + p2 + q**2)/((q**2*A(q**2)**2 + B(q**2)**2)*(-2*sqrt(p2)*q*x + p2 + q**2))"
      ]
     },
     "execution_count": 41,
     "metadata": {},
     "output_type": "execute_result"
    }
   ],
   "source": [
    "kernel_b"
   ]
  },
  {
   "cell_type": "code",
   "execution_count": 42,
   "id": "b00adc15",
   "metadata": {},
   "outputs": [],
   "source": [
    "integrand_b = q2**(3/2)*kernel_b"
   ]
  },
  {
   "cell_type": "markdown",
   "id": "aa3f95c2",
   "metadata": {},
   "source": [
    "## $B^{'}$"
   ]
  },
  {
   "cell_type": "code",
   "execution_count": 43,
   "id": "86bab5ea",
   "metadata": {},
   "outputs": [],
   "source": [
    "B_prime = 1/smp.pi**3 *smp.Integral(\n",
    "    smp.Integral(integrand_b,(x,-1,1)),\n",
    "    (q,0,smp.oo)\n",
    ")"
   ]
  },
  {
   "cell_type": "code",
   "execution_count": 44,
   "id": "461bc57f",
   "metadata": {},
   "outputs": [
    {
     "data": {
      "text/latex": [
       "$\\displaystyle \\frac{\\int\\limits_{0}^{\\infty}\\int\\limits_{-1}^{1} \\frac{q^{3.0} \\sqrt{1 - x^{2}} B{\\left(q^{2} \\right)} G{\\left(- 2 \\sqrt{p_{2}} q x + p_{2} + q^{2} \\right)}}{\\left(q^{2} A^{2}{\\left(q^{2} \\right)} + B^{2}{\\left(q^{2} \\right)}\\right) \\left(- 2 \\sqrt{p_{2}} q x + p_{2} + q^{2}\\right)}\\, dx\\, dq}{\\pi^{3}}$"
      ],
      "text/plain": [
       "Integral(q**3.0*sqrt(1 - x**2)*B(q**2)*G(-2*sqrt(p2)*q*x + p2 + q**2)/((q**2*A(q**2)**2 + B(q**2)**2)*(-2*sqrt(p2)*q*x + p2 + q**2)), (x, -1, 1), (q, 0, oo))/pi**3"
      ]
     },
     "execution_count": 44,
     "metadata": {},
     "output_type": "execute_result"
    }
   ],
   "source": [
    "B_prime"
   ]
  },
  {
   "cell_type": "markdown",
   "id": "5e7b086c",
   "metadata": {},
   "source": [
    "#### 我们假设裸质量$m(\\xi)$ 是一个常量"
   ]
  },
  {
   "cell_type": "code",
   "execution_count": 46,
   "id": "e9da3e4f",
   "metadata": {},
   "outputs": [],
   "source": [
    "Z4, m = smp.symbols('Z4 m')"
   ]
  },
  {
   "cell_type": "code",
   "execution_count": 48,
   "id": "79b6e7c9",
   "metadata": {},
   "outputs": [],
   "source": [
    "B = Z4*m + B_prime"
   ]
  },
  {
   "cell_type": "code",
   "execution_count": 49,
   "id": "dca42c93",
   "metadata": {},
   "outputs": [
    {
     "data": {
      "text/latex": [
       "$\\displaystyle Z_{4} m + \\frac{\\int\\limits_{0}^{\\infty}\\int\\limits_{-1}^{1} \\frac{q^{3.0} \\sqrt{1 - x^{2}} B{\\left(q^{2} \\right)} G{\\left(- 2 \\sqrt{p_{2}} q x + p_{2} + q^{2} \\right)}}{\\left(q^{2} A^{2}{\\left(q^{2} \\right)} + B^{2}{\\left(q^{2} \\right)}\\right) \\left(- 2 \\sqrt{p_{2}} q x + p_{2} + q^{2}\\right)}\\, dx\\, dq}{\\pi^{3}}$"
      ],
      "text/plain": [
       "Z4*m + Integral(q**3.0*sqrt(1 - x**2)*B(q**2)*G(-2*sqrt(p2)*q*x + p2 + q**2)/((q**2*A(q**2)**2 + B(q**2)**2)*(-2*sqrt(p2)*q*x + p2 + q**2)), (x, -1, 1), (q, 0, oo))/pi**3"
      ]
     },
     "execution_count": 49,
     "metadata": {},
     "output_type": "execute_result"
    }
   ],
   "source": [
    "B"
   ]
  },
  {
   "cell_type": "markdown",
   "id": "398a68bf",
   "metadata": {},
   "source": [
    "#### 尝试计算Z2,我们假设胶子项G为常数 $$G(k^2) = 1$$"
   ]
  },
  {
   "cell_type": "code",
   "execution_count": 50,
   "id": "0c7ca65a",
   "metadata": {},
   "outputs": [],
   "source": [
    "from scipy import integrate"
   ]
  },
  {
   "cell_type": "code",
   "execution_count": null,
   "id": "90f1c1bc",
   "metadata": {},
   "outputs": [],
   "source": [
    "f = smp.lambdify()"
   ]
  }
 ],
 "metadata": {
  "kernelspec": {
   "display_name": "sci",
   "language": "python",
   "name": "python3"
  },
  "language_info": {
   "codemirror_mode": {
    "name": "ipython",
    "version": 3
   },
   "file_extension": ".py",
   "mimetype": "text/x-python",
   "name": "python",
   "nbconvert_exporter": "python",
   "pygments_lexer": "ipython3",
   "version": "3.13.1"
  }
 },
 "nbformat": 4,
 "nbformat_minor": 5
}
