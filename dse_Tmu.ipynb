{
 "cells": [
  {
   "cell_type": "code",
   "execution_count": 1,
   "id": "0b2b7d4a",
   "metadata": {},
   "outputs": [],
   "source": [
    "from sympy import *"
   ]
  },
  {
   "cell_type": "code",
   "execution_count": 2,
   "id": "d85986e0",
   "metadata": {},
   "outputs": [],
   "source": [
    "sigma_A,sigma_B,sigma_C,sigma_D,A,B,C,D = symbols(\"sigma_A,sigma_B,sigma_C,sigma_D,A,B,C,D\")\n",
    "omega_n,omega_l,q2,p2,t1,t2,t3 = symbols(\"omega_n,omega_l,q^2,p^2,t1,t2,t3\")"
   ]
  },
  {
   "cell_type": "code",
   "execution_count": 3,
   "id": "ec56f8f6",
   "metadata": {},
   "outputs": [],
   "source": [
    "t1 = B**2 + C**2*omega_l**2+(A**2+D**2*omega_l**2)*q2\n",
    "t2 = 0\n",
    "t3 = t1**2 + q2*t2**2"
   ]
  },
  {
   "cell_type": "code",
   "execution_count": 4,
   "id": "4b73a5c0",
   "metadata": {},
   "outputs": [],
   "source": [
    "sigma_A = (-A*t1)/t3\n",
    "sigma_B = (B*t1)/t3\n",
    "sigma_C = (-C*t1)/t3\n",
    "sigma_D = (-D*t1)/t3"
   ]
  },
  {
   "cell_type": "code",
   "execution_count": 5,
   "id": "8c4a16bf",
   "metadata": {},
   "outputs": [
    {
     "data": {
      "text/latex": [
       "$\\displaystyle - \\frac{A}{A^{2} q^{2} + B^{2} + C^{2} \\omega_{l}^{2}}$"
      ],
      "text/plain": [
       "-A/(A**2*q^2 + B**2 + C**2*omega_l**2)"
      ]
     },
     "execution_count": 5,
     "metadata": {},
     "output_type": "execute_result"
    }
   ],
   "source": [
    "sigma_A.subs(D,0)"
   ]
  },
  {
   "cell_type": "code",
   "execution_count": 6,
   "id": "3064b61d",
   "metadata": {},
   "outputs": [
    {
     "data": {
      "text/latex": [
       "$\\displaystyle \\frac{B}{A^{2} q^{2} + B^{2} + C^{2} \\omega_{l}^{2}}$"
      ],
      "text/plain": [
       "B/(A**2*q^2 + B**2 + C**2*omega_l**2)"
      ]
     },
     "execution_count": 6,
     "metadata": {},
     "output_type": "execute_result"
    }
   ],
   "source": [
    "sigma_B.subs(D,0)"
   ]
  },
  {
   "cell_type": "code",
   "execution_count": 7,
   "id": "60e22fda",
   "metadata": {},
   "outputs": [
    {
     "data": {
      "text/latex": [
       "$\\displaystyle - \\frac{C}{A^{2} q^{2} + B^{2} + C^{2} \\omega_{l}^{2}}$"
      ],
      "text/plain": [
       "-C/(A**2*q^2 + B**2 + C**2*omega_l**2)"
      ]
     },
     "execution_count": 7,
     "metadata": {},
     "output_type": "execute_result"
    }
   ],
   "source": [
    "sigma_C.subs(D,0)"
   ]
  },
  {
   "cell_type": "markdown",
   "id": "e47bba49",
   "metadata": {},
   "source": [
    "## define K"
   ]
  },
  {
   "cell_type": "code",
   "execution_count": 8,
   "id": "95e23635",
   "metadata": {},
   "outputs": [],
   "source": [
    "pq,kp,kq,k_nl,omega_nl,k_n = symbols(\"pq,kp,kq,k_nl,omega_nl,k_n\")\n",
    "p,q,k = symbols(\"p,q,k\")"
   ]
  },
  {
   "cell_type": "code",
   "execution_count": 9,
   "id": "1d32faaa",
   "metadata": {},
   "outputs": [],
   "source": [
    "K_A,K_B,K_C,K_D = symbols(\"K_A,K_B,K_C,K_D\")"
   ]
  },
  {
   "cell_type": "code",
   "execution_count": 10,
   "id": "abf44505",
   "metadata": {},
   "outputs": [],
   "source": [
    "K_A = -((pq*k_nl**2 + 2*kp*kq)*sigma_A + 2*kp*omega_nl*omega_l*sigma_C)/(p2*k_nl**2)\n",
    "K_B = 3*sigma_B\n",
    "K_C = -omega_l*sigma_C/omega_n - 2*omega_nl*(kq*sigma_A+omega_nl*omega_l*sigma_C)/(omega_n*k_nl**2)"
   ]
  },
  {
   "cell_type": "code",
   "execution_count": 11,
   "id": "790f362b",
   "metadata": {},
   "outputs": [],
   "source": [
    "the = symbols(\"theta\")\n",
    "pq = sqrt(p2*q2)*cos(the)"
   ]
  },
  {
   "cell_type": "code",
   "execution_count": 12,
   "id": "1a27ca00",
   "metadata": {},
   "outputs": [],
   "source": [
    "k = p - q \n",
    "kp = p2 - pq\n",
    "kq = pq - q2"
   ]
  },
  {
   "cell_type": "code",
   "execution_count": 13,
   "id": "1a3f7900",
   "metadata": {},
   "outputs": [],
   "source": [
    "K_A = -((pq*k_nl**2 + 2*kp*kq)*sigma_A + 2*kp*omega_nl*omega_l*sigma_C)/(p2*k_nl**2)\n",
    "K_B = 3*sigma_B\n",
    "K_C = -omega_l*sigma_C/omega_n - 2*omega_nl*(kq*sigma_A+omega_nl*omega_l*sigma_C)/(omega_n*k_nl**2)"
   ]
  },
  {
   "cell_type": "code",
   "execution_count": 20,
   "id": "b1f29b5e",
   "metadata": {},
   "outputs": [
    {
     "data": {
      "text/latex": [
       "$\\displaystyle \\frac{A \\left(k_{nl}^{2} \\sqrt{p^{2} q^{2}} \\cos{\\left(\\theta \\right)} - 2 \\left(p^{2} - \\sqrt{p^{2} q^{2}} \\cos{\\left(\\theta \\right)}\\right) \\left(q^{2} - \\sqrt{p^{2} q^{2}} \\cos{\\left(\\theta \\right)}\\right)\\right) + 2 C \\omega_{l} \\omega_{nl} \\left(p^{2} - \\sqrt{p^{2} q^{2}} \\cos{\\left(\\theta \\right)}\\right)}{k_{nl}^{2} p^{2} \\left(A^{2} q^{2} + B^{2} + C^{2} \\omega_{l}^{2}\\right)}$"
      ],
      "text/plain": [
       "(A*(k_nl**2*sqrt(p^2*q^2)*cos(theta) - 2*(p^2 - sqrt(p^2*q^2)*cos(theta))*(q^2 - sqrt(p^2*q^2)*cos(theta))) + 2*C*omega_l*omega_nl*(p^2 - sqrt(p^2*q^2)*cos(theta)))/(k_nl**2*p^2*(A**2*q^2 + B**2 + C**2*omega_l**2))"
      ]
     },
     "execution_count": 20,
     "metadata": {},
     "output_type": "execute_result"
    }
   ],
   "source": [
    "K_A = K_A.subs(D,0)\n",
    "K_A.simplify()"
   ]
  },
  {
   "cell_type": "code",
   "execution_count": 22,
   "id": "fe544651",
   "metadata": {},
   "outputs": [
    {
     "data": {
      "text/latex": [
       "$\\displaystyle \\frac{3 B}{A^{2} q^{2} + B^{2} + C^{2} \\omega_{l}^{2}}$"
      ],
      "text/plain": [
       "3*B/(A**2*q^2 + B**2 + C**2*omega_l**2)"
      ]
     },
     "execution_count": 22,
     "metadata": {},
     "output_type": "execute_result"
    }
   ],
   "source": [
    "K_B = K_B.subs(D,0)\n",
    "K_B.simplify()"
   ]
  },
  {
   "cell_type": "code",
   "execution_count": 23,
   "id": "a21686c7",
   "metadata": {},
   "outputs": [
    {
     "data": {
      "text/latex": [
       "$\\displaystyle \\frac{C k_{nl}^{2} \\omega_{l} - 2 \\omega_{nl} \\left(A \\left(q^{2} - \\sqrt{p^{2} q^{2}} \\cos{\\left(\\theta \\right)}\\right) - C \\omega_{l} \\omega_{nl}\\right)}{k_{nl}^{2} \\omega_{n} \\left(A^{2} q^{2} + B^{2} + C^{2} \\omega_{l}^{2}\\right)}$"
      ],
      "text/plain": [
       "(C*k_nl**2*omega_l - 2*omega_nl*(A*(q^2 - sqrt(p^2*q^2)*cos(theta)) - C*omega_l*omega_nl))/(k_nl**2*omega_n*(A**2*q^2 + B**2 + C**2*omega_l**2))"
      ]
     },
     "execution_count": 23,
     "metadata": {},
     "output_type": "execute_result"
    }
   ],
   "source": [
    "K_C = K_C.subs(D,0)\n",
    "K_C.simplify()"
   ]
  },
  {
   "cell_type": "code",
   "execution_count": null,
   "id": "5c5eafd6",
   "metadata": {},
   "outputs": [],
   "source": []
  }
 ],
 "metadata": {
  "kernelspec": {
   "display_name": "sci",
   "language": "python",
   "name": "python3"
  },
  "language_info": {
   "codemirror_mode": {
    "name": "ipython",
    "version": 3
   },
   "file_extension": ".py",
   "mimetype": "text/x-python",
   "name": "python",
   "nbconvert_exporter": "python",
   "pygments_lexer": "ipython3",
   "version": "3.13.1"
  }
 },
 "nbformat": 4,
 "nbformat_minor": 5
}
