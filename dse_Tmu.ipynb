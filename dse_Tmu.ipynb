{
 "cells": [
  {
   "cell_type": "code",
   "execution_count": 1,
   "id": "0b2b7d4a",
   "metadata": {},
   "outputs": [],
   "source": [
    "from sympy import *"
   ]
  },
  {
   "cell_type": "code",
   "execution_count": 2,
   "id": "d85986e0",
   "metadata": {},
   "outputs": [],
   "source": [
    "sigma_A,sigma_B,sigma_C,sigma_D,A,B,C,D = symbols(\"sigma_A,sigma_B,sigma_C,sigma_D,A,B,C,D\")\n",
    "omega_n,omega_l,q2,p2,t1,t2,t3 = symbols(\"omega_n,omega_l,q^2,p^2,t1,t2,t3\")\n",
    "A_5,B_5 = symbols(\"A_5,B_5\")\n",
    "sigma_A5,sigma_B5,sigma_C5 = symbols(\"sigma_{A_5},sigma_{B_5},sigma_{C_5}\")"
   ]
  },
  {
   "cell_type": "code",
   "execution_count": 3,
   "id": "ec56f8f6",
   "metadata": {},
   "outputs": [],
   "source": [
    "t1 = B**2 - B_5**2 + C**2*omega_l**2+(A**2 - A_5**2 +D**2*omega_l**2)*q2\n",
    "t2 = 2*omega_l*(A_5*C + B_5*D)\n",
    "t3 = t1**2 + q2*t2**2"
   ]
  },
  {
   "cell_type": "markdown",
   "id": "037f39c1",
   "metadata": {},
   "source": [
    "## define $\\sigma_A$ $\\sigma_B$ $\\sigma_C$"
   ]
  },
  {
   "cell_type": "code",
   "execution_count": 4,
   "id": "4b73a5c0",
   "metadata": {},
   "outputs": [],
   "source": [
    "sigma_A = (-A*t1)/t3\n",
    "sigma_B = (B*t1)/t3\n",
    "sigma_C = (-C*t1-A_5*q2*t2/omega_l)/t3\n",
    "sigma_D = (-D*t1-B_5*t2/omega_l)/t3\n",
    "sigma_A5 = (A_5*t1-C*omega_l*t2)/t3\n",
    "sigma_B5 = (-B_5*t1+D*omega_l*q2*t2)/t3\n",
    "sigma_C5 = (-A*q2*t2/omega_l)/t3"
   ]
  },
  {
   "cell_type": "code",
   "execution_count": 5,
   "id": "8c4a16bf",
   "metadata": {},
   "outputs": [
    {
     "data": {
      "text/latex": [
       "$\\displaystyle - \\frac{A \\left(B^{2} - B_{5}^{2} + C^{2} \\omega_{l}^{2} + q^{2} \\left(A^{2} - A_{5}^{2}\\right)\\right)}{4 A_{5}^{2} C^{2} \\omega_{l}^{2} q^{2} + \\left(B^{2} - B_{5}^{2} + C^{2} \\omega_{l}^{2} + q^{2} \\left(A^{2} - A_{5}^{2}\\right)\\right)^{2}}$"
      ],
      "text/plain": [
       "-A*(B**2 - B_5**2 + C**2*omega_l**2 + q^2*(A**2 - A_5**2))/(4*A_5**2*C**2*omega_l**2*q^2 + (B**2 - B_5**2 + C**2*omega_l**2 + q^2*(A**2 - A_5**2))**2)"
      ]
     },
     "execution_count": 5,
     "metadata": {},
     "output_type": "execute_result"
    }
   ],
   "source": [
    "sigma_A.subs(D,0)"
   ]
  },
  {
   "cell_type": "code",
   "execution_count": 6,
   "id": "3064b61d",
   "metadata": {},
   "outputs": [
    {
     "data": {
      "text/latex": [
       "$\\displaystyle \\frac{B \\left(B^{2} - B_{5}^{2} + C^{2} \\omega_{l}^{2} + q^{2} \\left(A^{2} - A_{5}^{2}\\right)\\right)}{4 A_{5}^{2} C^{2} \\omega_{l}^{2} q^{2} + \\left(B^{2} - B_{5}^{2} + C^{2} \\omega_{l}^{2} + q^{2} \\left(A^{2} - A_{5}^{2}\\right)\\right)^{2}}$"
      ],
      "text/plain": [
       "B*(B**2 - B_5**2 + C**2*omega_l**2 + q^2*(A**2 - A_5**2))/(4*A_5**2*C**2*omega_l**2*q^2 + (B**2 - B_5**2 + C**2*omega_l**2 + q^2*(A**2 - A_5**2))**2)"
      ]
     },
     "execution_count": 6,
     "metadata": {},
     "output_type": "execute_result"
    }
   ],
   "source": [
    "sigma_B.subs(D,0)"
   ]
  },
  {
   "cell_type": "code",
   "execution_count": 7,
   "id": "60e22fda",
   "metadata": {},
   "outputs": [
    {
     "data": {
      "text/latex": [
       "$\\displaystyle \\frac{- 2 A_{5}^{2} C q^{2} - C \\left(B^{2} - B_{5}^{2} + C^{2} \\omega_{l}^{2} + q^{2} \\left(A^{2} - A_{5}^{2}\\right)\\right)}{4 A_{5}^{2} C^{2} \\omega_{l}^{2} q^{2} + \\left(B^{2} - B_{5}^{2} + C^{2} \\omega_{l}^{2} + q^{2} \\left(A^{2} - A_{5}^{2}\\right)\\right)^{2}}$"
      ],
      "text/plain": [
       "(-2*A_5**2*C*q^2 - C*(B**2 - B_5**2 + C**2*omega_l**2 + q^2*(A**2 - A_5**2)))/(4*A_5**2*C**2*omega_l**2*q^2 + (B**2 - B_5**2 + C**2*omega_l**2 + q^2*(A**2 - A_5**2))**2)"
      ]
     },
     "execution_count": 7,
     "metadata": {},
     "output_type": "execute_result"
    }
   ],
   "source": [
    "sigma_C.subs(D,0)"
   ]
  },
  {
   "cell_type": "code",
   "execution_count": 8,
   "id": "df3ecaf9",
   "metadata": {},
   "outputs": [
    {
     "data": {
      "text/latex": [
       "$\\displaystyle \\frac{- 2 A_{5} C^{2} \\omega_{l}^{2} + A_{5} \\left(B^{2} - B_{5}^{2} + C^{2} \\omega_{l}^{2} + q^{2} \\left(A^{2} - A_{5}^{2}\\right)\\right)}{4 A_{5}^{2} C^{2} \\omega_{l}^{2} q^{2} + \\left(B^{2} - B_{5}^{2} + C^{2} \\omega_{l}^{2} + q^{2} \\left(A^{2} - A_{5}^{2}\\right)\\right)^{2}}$"
      ],
      "text/plain": [
       "(-2*A_5*C**2*omega_l**2 + A_5*(B**2 - B_5**2 + C**2*omega_l**2 + q^2*(A**2 - A_5**2)))/(4*A_5**2*C**2*omega_l**2*q^2 + (B**2 - B_5**2 + C**2*omega_l**2 + q^2*(A**2 - A_5**2))**2)"
      ]
     },
     "execution_count": 8,
     "metadata": {},
     "output_type": "execute_result"
    }
   ],
   "source": [
    "sigma_A5.subs(D,0)"
   ]
  },
  {
   "cell_type": "code",
   "execution_count": 9,
   "id": "f66b44f2",
   "metadata": {},
   "outputs": [
    {
     "data": {
      "text/latex": [
       "$\\displaystyle - \\frac{B_{5} \\left(B^{2} - B_{5}^{2} + C^{2} \\omega_{l}^{2} + q^{2} \\left(A^{2} - A_{5}^{2}\\right)\\right)}{4 A_{5}^{2} C^{2} \\omega_{l}^{2} q^{2} + \\left(B^{2} - B_{5}^{2} + C^{2} \\omega_{l}^{2} + q^{2} \\left(A^{2} - A_{5}^{2}\\right)\\right)^{2}}$"
      ],
      "text/plain": [
       "-B_5*(B**2 - B_5**2 + C**2*omega_l**2 + q^2*(A**2 - A_5**2))/(4*A_5**2*C**2*omega_l**2*q^2 + (B**2 - B_5**2 + C**2*omega_l**2 + q^2*(A**2 - A_5**2))**2)"
      ]
     },
     "execution_count": 9,
     "metadata": {},
     "output_type": "execute_result"
    }
   ],
   "source": [
    "sigma_B5.subs(D,0)"
   ]
  },
  {
   "cell_type": "code",
   "execution_count": 10,
   "id": "b03de23e",
   "metadata": {},
   "outputs": [
    {
     "data": {
      "text/latex": [
       "$\\displaystyle - \\frac{2 A A_{5} C q^{2}}{4 A_{5}^{2} C^{2} \\omega_{l}^{2} q^{2} + \\left(B^{2} - B_{5}^{2} + C^{2} \\omega_{l}^{2} + q^{2} \\left(A^{2} - A_{5}^{2}\\right)\\right)^{2}}$"
      ],
      "text/plain": [
       "-2*A*A_5*C*q^2/(4*A_5**2*C**2*omega_l**2*q^2 + (B**2 - B_5**2 + C**2*omega_l**2 + q^2*(A**2 - A_5**2))**2)"
      ]
     },
     "execution_count": 10,
     "metadata": {},
     "output_type": "execute_result"
    }
   ],
   "source": [
    "sigma_C5.subs(D,0)"
   ]
  },
  {
   "cell_type": "markdown",
   "id": "e47bba49",
   "metadata": {},
   "source": [
    "## define K"
   ]
  },
  {
   "cell_type": "code",
   "execution_count": 11,
   "id": "95e23635",
   "metadata": {},
   "outputs": [],
   "source": [
    "pq,kp,kq,k_nl,omega_nl,k_n = symbols(\"pq,kp,kq,k_nl,omega_nl,k_n\")\n",
    "p,q,k = symbols(\"p,q,k\")"
   ]
  },
  {
   "cell_type": "code",
   "execution_count": 12,
   "id": "1d32faaa",
   "metadata": {},
   "outputs": [],
   "source": [
    "K_A,K_B,K_C,K_D = symbols(\"K_A,K_B,K_C,K_D\")\n",
    "K_A5,K_B5 = symbols(\"K_{A_5},K_{B_5}\")"
   ]
  },
  {
   "cell_type": "code",
   "execution_count": 13,
   "id": "abf44505",
   "metadata": {},
   "outputs": [],
   "source": [
    "K_A = -((pq*k_nl**2 + 2*kp*kq)*sigma_A + 2*kp*omega_nl*omega_l*sigma_C)/(p2*k_nl**2)\n",
    "K_B = 3*sigma_B\n",
    "K_C = -omega_l*sigma_C/omega_n - 2*omega_nl*(kq*sigma_A+omega_nl*omega_l*sigma_C)/(omega_n*k_nl**2)"
   ]
  },
  {
   "cell_type": "code",
   "execution_count": 28,
   "id": "21133ab2",
   "metadata": {},
   "outputs": [],
   "source": [
    "K_A5 = ((pq*k_nl**2 + 2*kp*kq)*sigma_A5 + 2*kp*omega_nl*omega_l*sigma_C5)/(p2*k_nl**2)\n",
    "K_B5 = -3*sigma_B5"
   ]
  },
  {
   "cell_type": "code",
   "execution_count": 29,
   "id": "5a93ac24",
   "metadata": {},
   "outputs": [],
   "source": [
    "K_A5 = K_A5.subs(D,0)\n",
    "K_B5 = K_B5.subs(D,0)"
   ]
  },
  {
   "cell_type": "code",
   "execution_count": 30,
   "id": "3f39df5a",
   "metadata": {},
   "outputs": [
    {
     "data": {
      "text/latex": [
       "$\\displaystyle \\frac{A_{5} \\left(- 4 A C kp \\omega_{l} \\omega_{nl} q^{2} - \\left(k_{nl}^{2} pq + 2 kp kq\\right) \\left(- B^{2} + B_{5}^{2} + C^{2} \\omega_{l}^{2} - q^{2} \\left(A^{2} - A_{5}^{2}\\right)\\right)\\right)}{k_{nl}^{2} p^{2} \\left(4 A_{5}^{2} C^{2} \\omega_{l}^{2} q^{2} + \\left(B^{2} - B_{5}^{2} + C^{2} \\omega_{l}^{2} + q^{2} \\left(A^{2} - A_{5}^{2}\\right)\\right)^{2}\\right)}$"
      ],
      "text/plain": [
       "A_5*(-4*A*C*kp*omega_l*omega_nl*q^2 - (k_nl**2*pq + 2*kp*kq)*(-B**2 + B_5**2 + C**2*omega_l**2 - q^2*(A**2 - A_5**2)))/(k_nl**2*p^2*(4*A_5**2*C**2*omega_l**2*q^2 + (B**2 - B_5**2 + C**2*omega_l**2 + q^2*(A**2 - A_5**2))**2))"
      ]
     },
     "execution_count": 30,
     "metadata": {},
     "output_type": "execute_result"
    }
   ],
   "source": [
    "K_A5.simplify()"
   ]
  },
  {
   "cell_type": "code",
   "execution_count": 31,
   "id": "50477b25",
   "metadata": {},
   "outputs": [
    {
     "data": {
      "text/latex": [
       "$\\displaystyle \\frac{3 B_{5} \\left(B^{2} - B_{5}^{2} + C^{2} \\omega_{l}^{2} + q^{2} \\left(A^{2} - A_{5}^{2}\\right)\\right)}{4 A_{5}^{2} C^{2} \\omega_{l}^{2} q^{2} + \\left(B^{2} - B_{5}^{2} + C^{2} \\omega_{l}^{2} + q^{2} \\left(A^{2} - A_{5}^{2}\\right)\\right)^{2}}$"
      ],
      "text/plain": [
       "3*B_5*(B**2 - B_5**2 + C**2*omega_l**2 + q^2*(A**2 - A_5**2))/(4*A_5**2*C**2*omega_l**2*q^2 + (B**2 - B_5**2 + C**2*omega_l**2 + q^2*(A**2 - A_5**2))**2)"
      ]
     },
     "execution_count": 31,
     "metadata": {},
     "output_type": "execute_result"
    }
   ],
   "source": [
    "K_B5.simplify()"
   ]
  },
  {
   "cell_type": "code",
   "execution_count": 32,
   "id": "790f362b",
   "metadata": {},
   "outputs": [],
   "source": [
    "the = symbols(\"theta\")\n",
    "pq = sqrt(p2*q2)*cos(the)"
   ]
  },
  {
   "cell_type": "code",
   "execution_count": 33,
   "id": "1a27ca00",
   "metadata": {},
   "outputs": [],
   "source": [
    "k = p - q \n",
    "kp = p2 - pq\n",
    "kq = pq - q2\n",
    "# print(data[\"z4\"])"
   ]
  },
  {
   "cell_type": "code",
   "execution_count": 34,
   "id": "1a3f7900",
   "metadata": {},
   "outputs": [],
   "source": [
    "K_A = -((pq*k_nl**2 + 2*kp*kq)*sigma_A + 2*kp*omega_nl*omega_l*sigma_C)/(p2*k_nl**2)\n",
    "K_B = 3*sigma_B\n",
    "K_C = -omega_l*sigma_C/omega_n - 2*omega_nl*(kq*sigma_A+omega_nl*omega_l*sigma_C)/(omega_n*k_nl**2)"
   ]
  },
  {
   "cell_type": "code",
   "execution_count": 36,
   "id": "b1f29b5e",
   "metadata": {},
   "outputs": [
    {
     "data": {
      "text/latex": [
       "$\\displaystyle \\frac{A \\left(k_{nl}^{2} \\sqrt{p^{2} q^{2}} \\cos{\\left(\\theta \\right)} - 2 \\left(p^{2} - \\sqrt{p^{2} q^{2}} \\cos{\\left(\\theta \\right)}\\right) \\left(q^{2} - \\sqrt{p^{2} q^{2}} \\cos{\\left(\\theta \\right)}\\right)\\right)}{k_{nl}^{2} p^{2} \\left(A^{2} q^{2} + B^{2}\\right)}$"
      ],
      "text/plain": [
       "A*(k_nl**2*sqrt(p^2*q^2)*cos(theta) - 2*(p^2 - sqrt(p^2*q^2)*cos(theta))*(q^2 - sqrt(p^2*q^2)*cos(theta)))/(k_nl**2*p^2*(A**2*q^2 + B**2))"
      ]
     },
     "execution_count": 36,
     "metadata": {},
     "output_type": "execute_result"
    }
   ],
   "source": [
    "K_A = K_A.subs([(C,0),(A_5,0),(B_5,0)])\n",
    "K_A.simplify()"
   ]
  },
  {
   "cell_type": "code",
   "execution_count": 38,
   "id": "fe544651",
   "metadata": {},
   "outputs": [
    {
     "data": {
      "text/latex": [
       "$\\displaystyle \\frac{3 B}{A^{2} q^{2} + B^{2} + C^{2} \\omega_{l}^{2}}$"
      ],
      "text/plain": [
       "3*B/(A**2*q^2 + B**2 + C**2*omega_l**2)"
      ]
     },
     "execution_count": 38,
     "metadata": {},
     "output_type": "execute_result"
    }
   ],
   "source": [
    "K_B = K_B.subs([(D,0),(A_5,0),(B_5,0)])\n",
    "K_B.simplify()"
   ]
  },
  {
   "cell_type": "code",
   "execution_count": 39,
   "id": "a21686c7",
   "metadata": {},
   "outputs": [
    {
     "data": {
      "text/latex": [
       "$\\displaystyle \\frac{C k_{nl}^{2} \\omega_{l} - 2 \\omega_{nl} \\left(A \\left(q^{2} - \\sqrt{p^{2} q^{2}} \\cos{\\left(\\theta \\right)}\\right) - C \\omega_{l} \\omega_{nl}\\right)}{k_{nl}^{2} \\omega_{n} \\left(A^{2} q^{2} + B^{2} + C^{2} \\omega_{l}^{2}\\right)}$"
      ],
      "text/plain": [
       "(C*k_nl**2*omega_l - 2*omega_nl*(A*(q^2 - sqrt(p^2*q^2)*cos(theta)) - C*omega_l*omega_nl))/(k_nl**2*omega_n*(A**2*q^2 + B**2 + C**2*omega_l**2))"
      ]
     },
     "execution_count": 39,
     "metadata": {},
     "output_type": "execute_result"
    }
   ],
   "source": [
    "K_C = K_C.subs([(D,0),(A_5,0),(B_5,0)])\n",
    "K_C.simplify()"
   ]
  },
  {
   "cell_type": "markdown",
   "id": "b379596d",
   "metadata": {},
   "source": []
  }
 ],
 "metadata": {
  "kernelspec": {
   "display_name": "sci",
   "language": "python",
   "name": "python3"
  },
  "language_info": {
   "codemirror_mode": {
    "name": "ipython",
    "version": 3
   },
   "file_extension": ".py",
   "mimetype": "text/x-python",
   "name": "python",
   "nbconvert_exporter": "python",
   "pygments_lexer": "ipython3",
   "version": "3.13.1"
  }
 },
 "nbformat": 4,
 "nbformat_minor": 5
}
